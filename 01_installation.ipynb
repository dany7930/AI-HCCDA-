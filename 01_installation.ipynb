{
 "cells": [
  {
   "cell_type": "markdown",
   "id": "e2cba6c2",
   "metadata": {},
   "source": [
    "# steps\n",
    "1. creat a new conda envirement  'python_ml'\n",
    "2. install the followning pakages \n",
    "    1. python conda install python \n",
    "       1. pandas \n",
    "       2. numpy\n",
    "       3. matplotlib\n",
    "       4. seaborn\n",
    "       5. scipy\n",
    "       6. skit-learn \n",
    "       7. jupyter\n",
    "       8. openpyxl \n",
    "       9. plotly \n",
    "\n",
    "# pip install .....       \n",
    "D:\\ANA\\Scripts\\activate.bat\n",
    " $ conda activate python_ml\n",
    "#\n",
    "# To deactivate an active environment, use\n",
    "#\n",
    "#     $ conda deactivate\n",
    "\n",
    "pip install pandas numpy matplotlib seaborn scipy skit-learn jupyter openpyxl plotly "
   ]
  },
  {
   "cell_type": "code",
   "execution_count": 1,
   "id": "09f23939",
   "metadata": {},
   "outputs": [],
   "source": [
    "import pandas as pd "
   ]
  },
  {
   "cell_type": "code",
   "execution_count": 2,
   "id": "a5158aa0",
   "metadata": {},
   "outputs": [],
   "source": [
    "import numpy as np"
   ]
  },
  {
   "cell_type": "code",
   "execution_count": 3,
   "id": "3901a1ad",
   "metadata": {},
   "outputs": [
    {
     "data": {
      "text/plain": [
       "array([0.5, 0.5])"
      ]
     },
     "execution_count": 3,
     "metadata": {},
     "output_type": "execute_result"
    }
   ],
   "source": [
    "import matplotlib.pyplot as plt \n",
    "import seaborn as sns \n",
    "\n",
    "from sklearn import linear_model\n",
    "reg = linear_model.LinearRegression()\n",
    "reg.fit([[0, 0], [1, 1], [2, 2]], [0, 1, 2])\n",
    "\n",
    "reg.coef_\n"
   ]
  },
  {
   "cell_type": "markdown",
   "id": "77efc2c5",
   "metadata": {},
   "source": []
  }
 ],
 "metadata": {
  "kernelspec": {
   "display_name": "python_ml",
   "language": "python",
   "name": "python3"
  },
  "language_info": {
   "codemirror_mode": {
    "name": "ipython",
    "version": 3
   },
   "file_extension": ".py",
   "mimetype": "text/x-python",
   "name": "python",
   "nbconvert_exporter": "python",
   "pygments_lexer": "ipython3",
   "version": "3.11.13"
  }
 },
 "nbformat": 4,
 "nbformat_minor": 5
}
